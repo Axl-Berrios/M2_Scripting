{
 "cells": [
  {
   "cell_type": "markdown",
   "id": "9c483db2",
   "metadata": {},
   "source": [
    "## Tema 1. Variables y tipos de datos"
   ]
  },
  {
   "cell_type": "code",
   "execution_count": 3,
   "id": "33598f5a",
   "metadata": {},
   "outputs": [
    {
     "name": "stdout",
     "output_type": "stream",
     "text": [
      "3\n",
      "0.5\n",
      "Hola mundo\n"
     ]
    }
   ],
   "source": [
    "# Definamos una variable\n",
    "\n",
    "a = 3\n",
    "print(a) # función print imprime el resultado por pantalla\n",
    "b = 0.5\n",
    "print(b)\n",
    "c = \"Hola mundo\"\n",
    "print(c)\n",
    "\n",
    "# Se guardan las variables y sus valores, hasta que:\n",
    "# cerremos el ambiente, eliminemos las varibles o les cambiemos el valor."
   ]
  },
  {
   "cell_type": "code",
   "execution_count": 16,
   "id": "e6332745",
   "metadata": {},
   "outputs": [
    {
     "name": "stdout",
     "output_type": "stream",
     "text": [
      "<class 'int'>\n",
      "<class 'float'>\n",
      "<class 'str'>\n"
     ]
    }
   ],
   "source": [
    "# Veamos que tipo de dato representan\n",
    "print(type(a))\n",
    "print(type(b))\n",
    "print(type(c))\n",
    "# del(d) # función del sirve para eliminar la variable\n",
    "# print(type(d))"
   ]
  },
  {
   "cell_type": "code",
   "execution_count": null,
   "id": "53b2f559",
   "metadata": {},
   "outputs": [],
   "source": [
    "# \"#\" nos permite dejar \"comentarios\" en el código, sin que afecte el código en sí\n",
    "# De la misma forma, se puede \"observar\" parte código, como en el ejemplo \"# print(type(d))\""
   ]
  },
  {
   "cell_type": "markdown",
   "id": "810decb3",
   "metadata": {},
   "source": [
    "## Tema 2. Conversión de datos"
   ]
  },
  {
   "cell_type": "code",
   "execution_count": 19,
   "id": "367c5c31",
   "metadata": {},
   "outputs": [
    {
     "name": "stdout",
     "output_type": "stream",
     "text": [
      "7.5\n",
      "<class 'float'>\n"
     ]
    }
   ],
   "source": [
    "# Definamos un número flotante\n",
    "\n",
    "decimal = 7.5\n",
    "print(decimal)\n",
    "print(type(decimal))"
   ]
  },
  {
   "cell_type": "code",
   "execution_count": 20,
   "id": "afd41df8",
   "metadata": {},
   "outputs": [
    {
     "name": "stdout",
     "output_type": "stream",
     "text": [
      "7\n",
      "<class 'int'>\n"
     ]
    }
   ],
   "source": [
    "# Ahora lo convertimos en número entero\n",
    "\n",
    "entero = int(decimal) # función int\n",
    "print(entero)\n",
    "print(type(entero))\n",
    "\n",
    "# Aproxima el resultado al entero más cercano\n",
    "# No puede invertar 0.5 de la nada, por lo que aproxima a 7"
   ]
  },
  {
   "cell_type": "code",
   "execution_count": 21,
   "id": "db77280c",
   "metadata": {},
   "outputs": [
    {
     "name": "stdout",
     "output_type": "stream",
     "text": [
      "7.5\n",
      "<class 'str'>\n"
     ]
    }
   ],
   "source": [
    "# Ahora lo convertimos en una cadena de texto\n",
    "\n",
    "texto = str(decimal)  # función str\n",
    "print(texto)\n",
    "print(type(texto))"
   ]
  },
  {
   "cell_type": "code",
   "execution_count": 23,
   "id": "510a88fd",
   "metadata": {},
   "outputs": [
    {
     "data": {
      "text/plain": [
       "14.5"
      ]
     },
     "execution_count": 23,
     "metadata": {},
     "output_type": "execute_result"
    }
   ],
   "source": [
    "# Podemos sumar texto con decimal?\n",
    "texto + decimal"
   ]
  },
  {
   "cell_type": "code",
   "execution_count": 26,
   "id": "90124c81",
   "metadata": {},
   "outputs": [
    {
     "name": "stdout",
     "output_type": "stream",
     "text": [
      "El número elegido es 7.5\n"
     ]
    }
   ],
   "source": [
    "# Al contar con un string, podemos concatenar esa variable con otra cadena de texto.\n",
    "# De la siguiente forma:\n",
    "\n",
    "print(\"El número elegido es \" + texto)"
   ]
  },
  {
   "cell_type": "code",
   "execution_count": 27,
   "id": "4e41316b",
   "metadata": {},
   "outputs": [
    {
     "ename": "TypeError",
     "evalue": "can only concatenate str (not \"float\") to str",
     "output_type": "error",
     "traceback": [
      "\u001b[1;31m---------------------------------------------------------------------------\u001b[0m",
      "\u001b[1;31mTypeError\u001b[0m                                 Traceback (most recent call last)",
      "\u001b[1;32m<ipython-input-27-ff28d675e527>\u001b[0m in \u001b[0;36m<module>\u001b[1;34m\u001b[0m\n\u001b[0;32m      1\u001b[0m \u001b[1;31m# Podemos concatenar un texto con una variable numérica?\u001b[0m\u001b[1;33m\u001b[0m\u001b[1;33m\u001b[0m\u001b[1;33m\u001b[0m\u001b[0m\n\u001b[1;32m----> 2\u001b[1;33m \u001b[0mprint\u001b[0m\u001b[1;33m(\u001b[0m\u001b[1;34m\"El número elegido es \"\u001b[0m \u001b[1;33m+\u001b[0m \u001b[0mdecimal\u001b[0m\u001b[1;33m)\u001b[0m\u001b[1;33m\u001b[0m\u001b[1;33m\u001b[0m\u001b[0m\n\u001b[0m",
      "\u001b[1;31mTypeError\u001b[0m: can only concatenate str (not \"float\") to str"
     ]
    }
   ],
   "source": [
    "# Podemos concatenar un texto con una variable numérica?\n",
    "print(\"El número elegido es \" + decimal)"
   ]
  },
  {
   "cell_type": "code",
   "execution_count": 29,
   "id": "eb764bfb",
   "metadata": {},
   "outputs": [
    {
     "name": "stdout",
     "output_type": "stream",
     "text": [
      "El número elegido es 7.5\n"
     ]
    }
   ],
   "source": [
    "# Esto se puede lograr cambiando la \"+\" con una \",\"\n",
    "print(\"El número elegido es\", decimal)"
   ]
  },
  {
   "cell_type": "code",
   "execution_count": 34,
   "id": "ba32322e",
   "metadata": {},
   "outputs": [
    {
     "name": "stdout",
     "output_type": "stream",
     "text": [
      "7.5\n",
      "<class 'float'>\n"
     ]
    }
   ],
   "source": [
    "# De la misma forma se puede convertir en flotante\n",
    "\n",
    "flotante = float(texto)  # función float\n",
    "print(flotante)\n",
    "print(type(flotante))"
   ]
  },
  {
   "cell_type": "code",
   "execution_count": 32,
   "id": "b4880042",
   "metadata": {},
   "outputs": [
    {
     "data": {
      "text/plain": [
       "15.0"
      ]
     },
     "execution_count": 32,
     "metadata": {},
     "output_type": "execute_result"
    }
   ],
   "source": [
    "flotante + decimal"
   ]
  },
  {
   "cell_type": "markdown",
   "id": "f828f92c",
   "metadata": {},
   "source": [
    "## Tema 3. Operadores"
   ]
  },
  {
   "cell_type": "code",
   "execution_count": 36,
   "id": "d17ea870",
   "metadata": {},
   "outputs": [],
   "source": [
    "# Operaciones aritméticas con enteros y flotantes - Operaciones\n",
    "\n",
    "a = 2 + 3   # Suma\n",
    "b = a - 1.5 # Resta\n",
    "c = b * 2   # Multiplicación\n",
    "d = c / 3   # División"
   ]
  },
  {
   "cell_type": "code",
   "execution_count": 38,
   "id": "bb74963d",
   "metadata": {},
   "outputs": [
    {
     "name": "stdout",
     "output_type": "stream",
     "text": [
      "5\n",
      "3.5\n",
      "7.0\n",
      "2.3333333333333335\n"
     ]
    }
   ],
   "source": [
    "# Veamos los valores en cada caso\n",
    "print(a)\n",
    "print(b)\n",
    "print(c)\n",
    "print(d)"
   ]
  },
  {
   "cell_type": "code",
   "execution_count": 39,
   "id": "495b69de",
   "metadata": {},
   "outputs": [
    {
     "name": "stdout",
     "output_type": "stream",
     "text": [
      "<class 'int'>\n",
      "<class 'float'>\n",
      "<class 'float'>\n",
      "<class 'float'>\n"
     ]
    }
   ],
   "source": [
    "# Tipos de datos\n",
    "print(type(a))\n",
    "print(type(b))\n",
    "print(type(c))\n",
    "print(type(d))"
   ]
  },
  {
   "cell_type": "code",
   "execution_count": 40,
   "id": "434c8369",
   "metadata": {},
   "outputs": [
    {
     "name": "stdout",
     "output_type": "stream",
     "text": [
      "5\n",
      "<class 'int'>\n"
     ]
    }
   ],
   "source": [
    "# Definamos una variable\n",
    "a = 5\n",
    "print(a)\n",
    "print(type(a))"
   ]
  },
  {
   "cell_type": "code",
   "execution_count": 41,
   "id": "918c7dd9",
   "metadata": {},
   "outputs": [
    {
     "name": "stdout",
     "output_type": "stream",
     "text": [
      "0\n"
     ]
    }
   ],
   "source": [
    "# Podemos \"actualizar\" el valor de la variable\n",
    "a = 0\n",
    "print(a)"
   ]
  },
  {
   "cell_type": "code",
   "execution_count": 42,
   "id": "7c466e0b",
   "metadata": {},
   "outputs": [
    {
     "name": "stdout",
     "output_type": "stream",
     "text": [
      "3\n"
     ]
    }
   ],
   "source": [
    "# o podemos hacerlo de otra forma, a través de la misma variable\n",
    "a = a + 3\n",
    "print(a)"
   ]
  },
  {
   "cell_type": "code",
   "execution_count": 48,
   "id": "fd6440b4",
   "metadata": {},
   "outputs": [
    {
     "name": "stdout",
     "output_type": "stream",
     "text": [
      "6\n",
      "9\n",
      "1.0\n",
      "27\n",
      "0\n"
     ]
    }
   ],
   "source": [
    "# Existen otras de hacer \"lo mismo\"\n",
    "a = 3\n",
    "a += 3\n",
    "print(a)\n",
    "a = 3\n",
    "a *= 3\n",
    "print(a)\n",
    "a = 3\n",
    "a /= 3\n",
    "print(a)\n",
    "a = 3\n",
    "a **= 3\n",
    "print(a)\n",
    "a = 3\n",
    "a -= 3\n",
    "print(a)"
   ]
  },
  {
   "cell_type": "code",
   "execution_count": 49,
   "id": "a98dec24",
   "metadata": {},
   "outputs": [
    {
     "name": "stdout",
     "output_type": "stream",
     "text": [
      "1\n"
     ]
    }
   ],
   "source": [
    "# Operador módulo\n",
    "\n",
    "a = 5%2 # ¿Qué debería dar como resultado?\n",
    "print(a)"
   ]
  },
  {
   "cell_type": "code",
   "execution_count": 50,
   "id": "c589239f",
   "metadata": {},
   "outputs": [
    {
     "name": "stdout",
     "output_type": "stream",
     "text": [
      "0\n"
     ]
    }
   ],
   "source": [
    "b = 9%3 # ¿Qué debería dar como resultado?\n",
    "print(b) # El operador módulo entrega el \"resto\" de la división entre dos números."
   ]
  },
  {
   "cell_type": "code",
   "execution_count": 51,
   "id": "9ed7d718",
   "metadata": {},
   "outputs": [
    {
     "name": "stdout",
     "output_type": "stream",
     "text": [
      "HolaMundo!\n"
     ]
    }
   ],
   "source": [
    "# Operadores con cadena de texto\n",
    "\n",
    "texto_a = \"Hola\"\n",
    "texto_b = \"Mundo!\"\n",
    "texto_c = texto_a + texto_b\n",
    "\n",
    "print(texto_c)"
   ]
  },
  {
   "cell_type": "code",
   "execution_count": 53,
   "id": "78e03969",
   "metadata": {},
   "outputs": [
    {
     "name": "stdout",
     "output_type": "stream",
     "text": [
      "HolaMundo!\n"
     ]
    }
   ],
   "source": [
    "print(texto_a + texto_b) # Hacemos lo mismo de otra forma, sin crear una variable"
   ]
  },
  {
   "cell_type": "code",
   "execution_count": 55,
   "id": "9e9f894e",
   "metadata": {},
   "outputs": [
    {
     "name": "stdout",
     "output_type": "stream",
     "text": [
      "Hola Mundo!\n"
     ]
    }
   ],
   "source": [
    "print(texto_a,texto_b) # Hacemos lo mismo de otra forma, pero con \",\"\n",
    "\n",
    "# ¿Notan la diferencia?"
   ]
  },
  {
   "cell_type": "code",
   "execution_count": 56,
   "id": "554ee116",
   "metadata": {},
   "outputs": [
    {
     "ename": "TypeError",
     "evalue": "can only concatenate str (not \"int\") to str",
     "output_type": "error",
     "traceback": [
      "\u001b[1;31m---------------------------------------------------------------------------\u001b[0m",
      "\u001b[1;31mTypeError\u001b[0m                                 Traceback (most recent call last)",
      "\u001b[1;32m<ipython-input-56-fffddc903caf>\u001b[0m in \u001b[0;36m<module>\u001b[1;34m\u001b[0m\n\u001b[0;32m      3\u001b[0m \u001b[0ma\u001b[0m \u001b[1;33m=\u001b[0m \u001b[1;34m\"Cantidad: \"\u001b[0m\u001b[1;33m\u001b[0m\u001b[1;33m\u001b[0m\u001b[0m\n\u001b[0;32m      4\u001b[0m \u001b[0mb\u001b[0m \u001b[1;33m=\u001b[0m \u001b[1;36m5\u001b[0m\u001b[1;33m\u001b[0m\u001b[1;33m\u001b[0m\u001b[0m\n\u001b[1;32m----> 5\u001b[1;33m \u001b[0mprint\u001b[0m\u001b[1;33m(\u001b[0m\u001b[0ma\u001b[0m \u001b[1;33m+\u001b[0m \u001b[0mb\u001b[0m\u001b[1;33m)\u001b[0m\u001b[1;33m\u001b[0m\u001b[1;33m\u001b[0m\u001b[0m\n\u001b[0m",
      "\u001b[1;31mTypeError\u001b[0m: can only concatenate str (not \"int\") to str"
     ]
    }
   ],
   "source": [
    "# Concatenación\n",
    "\n",
    "a = \"Cantidad: \"\n",
    "b = 5\n",
    "print(a + b)"
   ]
  },
  {
   "cell_type": "code",
   "execution_count": 57,
   "id": "3e1ce314",
   "metadata": {},
   "outputs": [
    {
     "name": "stdout",
     "output_type": "stream",
     "text": [
      "Cantidad:  5\n"
     ]
    }
   ],
   "source": [
    "# Dado el error tenemos dos formas de \"arreglarlo\"\n",
    "\n",
    "print(a,b) # La primera"
   ]
  },
  {
   "cell_type": "code",
   "execution_count": 58,
   "id": "38dac656",
   "metadata": {},
   "outputs": [
    {
     "name": "stdout",
     "output_type": "stream",
     "text": [
      "Cantidad: 5\n"
     ]
    }
   ],
   "source": [
    "# La segunda forma\n",
    "print(a+str(b))"
   ]
  },
  {
   "cell_type": "markdown",
   "id": "39f9fe28",
   "metadata": {},
   "source": [
    "## Actividad de repaso"
   ]
  },
  {
   "cell_type": "code",
   "execution_count": 60,
   "id": "4a260a9e",
   "metadata": {},
   "outputs": [
    {
     "ename": "NameError",
     "evalue": "name '____' is not defined",
     "output_type": "error",
     "traceback": [
      "\u001b[1;31m---------------------------------------------------------------------------\u001b[0m",
      "\u001b[1;31mNameError\u001b[0m                                 Traceback (most recent call last)",
      "\u001b[1;32m<ipython-input-60-10c189da835c>\u001b[0m in \u001b[0;36m<module>\u001b[1;34m\u001b[0m\n\u001b[0;32m      1\u001b[0m \u001b[0ma\u001b[0m \u001b[1;33m=\u001b[0m \u001b[1;34m\"Juan\"\u001b[0m\u001b[1;33m\u001b[0m\u001b[1;33m\u001b[0m\u001b[0m\n\u001b[1;32m----> 2\u001b[1;33m \u001b[0mprint\u001b[0m\u001b[1;33m(\u001b[0m\u001b[0ma\u001b[0m\u001b[1;33m+\u001b[0m\u001b[1;34m\"tiene\"\u001b[0m\u001b[1;33m+\u001b[0m\u001b[0m____\u001b[0m\u001b[1;33m+\u001b[0m\u001b[1;34m\"años\"\u001b[0m\u001b[1;33m)\u001b[0m\u001b[1;33m\u001b[0m\u001b[1;33m\u001b[0m\u001b[0m\n\u001b[0m",
      "\u001b[1;31mNameError\u001b[0m: name '____' is not defined"
     ]
    }
   ],
   "source": [
    "a = \"Juan\"\n",
    "print(a+\"tiene\"+____+\"años\")"
   ]
  },
  {
   "cell_type": "code",
   "execution_count": 64,
   "id": "57373d3e",
   "metadata": {},
   "outputs": [
    {
     "name": "stdout",
     "output_type": "stream",
     "text": [
      "Juan tiene 28 años\n"
     ]
    }
   ],
   "source": [
    "a = \"Juan\"\n",
    "print(a+\" tiene \"+str(28)+\" años\")"
   ]
  },
  {
   "cell_type": "code",
   "execution_count": 65,
   "id": "cf2ad72e",
   "metadata": {},
   "outputs": [
    {
     "data": {
      "text/plain": [
       "'Juan tiene 28 años'"
      ]
     },
     "execution_count": 65,
     "metadata": {},
     "output_type": "execute_result"
    }
   ],
   "source": [
    "\"Juan tiene 28 años\""
   ]
  },
  {
   "cell_type": "code",
   "execution_count": 70,
   "id": "dd03d9cf",
   "metadata": {},
   "outputs": [
    {
     "name": "stdout",
     "output_type": "stream",
     "text": [
      "Juan tiene 28 años\n"
     ]
    }
   ],
   "source": [
    "a = \"Juan\"\n",
    "print(a+\" tiene \"+str(28)+\" años\")"
   ]
  },
  {
   "cell_type": "code",
   "execution_count": 71,
   "id": "5fdfd149",
   "metadata": {},
   "outputs": [
    {
     "name": "stdout",
     "output_type": "stream",
     "text": [
      "Juan tiene 28 años\n"
     ]
    }
   ],
   "source": [
    "a = \"Juan\"\n",
    "print(a,\"tiene\",28,\"años\")"
   ]
  },
  {
   "cell_type": "markdown",
   "id": "69453fa5",
   "metadata": {},
   "source": [
    "## Tema 4. Entradas y salidas simples"
   ]
  },
  {
   "cell_type": "code",
   "execution_count": 76,
   "id": "0a0de2de",
   "metadata": {},
   "outputs": [
    {
     "name": "stdout",
     "output_type": "stream",
     "text": [
      "Ingrese su nombre: GOnzalo\n",
      "GOnzalo\n"
     ]
    }
   ],
   "source": [
    "a = input(\"Ingrese su nombre: \")\n",
    "print(a)"
   ]
  },
  {
   "cell_type": "code",
   "execution_count": 79,
   "id": "709fe7f0",
   "metadata": {},
   "outputs": [
    {
     "name": "stdout",
     "output_type": "stream",
     "text": [
      "Ingrese un número: 5\n"
     ]
    },
    {
     "ename": "TypeError",
     "evalue": "can only concatenate str (not \"int\") to str",
     "output_type": "error",
     "traceback": [
      "\u001b[1;31m---------------------------------------------------------------------------\u001b[0m",
      "\u001b[1;31mTypeError\u001b[0m                                 Traceback (most recent call last)",
      "\u001b[1;32m<ipython-input-79-7e99e1d7b7f2>\u001b[0m in \u001b[0;36m<module>\u001b[1;34m\u001b[0m\n\u001b[0;32m      1\u001b[0m \u001b[0ma\u001b[0m \u001b[1;33m=\u001b[0m \u001b[0minput\u001b[0m\u001b[1;33m(\u001b[0m\u001b[1;34m\"Ingrese un número: \"\u001b[0m\u001b[1;33m)\u001b[0m\u001b[1;33m\u001b[0m\u001b[1;33m\u001b[0m\u001b[0m\n\u001b[1;32m----> 2\u001b[1;33m \u001b[0mb\u001b[0m \u001b[1;33m=\u001b[0m \u001b[0ma\u001b[0m \u001b[1;33m+\u001b[0m \u001b[1;36m2\u001b[0m\u001b[1;33m\u001b[0m\u001b[1;33m\u001b[0m\u001b[0m\n\u001b[0m\u001b[0;32m      3\u001b[0m \u001b[0mprint\u001b[0m\u001b[1;33m(\u001b[0m\u001b[0mb\u001b[0m\u001b[1;33m)\u001b[0m\u001b[1;33m\u001b[0m\u001b[1;33m\u001b[0m\u001b[0m\n",
      "\u001b[1;31mTypeError\u001b[0m: can only concatenate str (not \"int\") to str"
     ]
    }
   ],
   "source": [
    "a = input(\"Ingrese un número: \")\n",
    "b = a + 2\n",
    "print(b)"
   ]
  },
  {
   "cell_type": "code",
   "execution_count": 80,
   "id": "b7bcb209",
   "metadata": {},
   "outputs": [
    {
     "name": "stdout",
     "output_type": "stream",
     "text": [
      "Ingrese un número: 5\n",
      "7\n"
     ]
    }
   ],
   "source": [
    "a = int(input(\"Ingrese un número: \"))\n",
    "b = a + 2\n",
    "print(b)"
   ]
  },
  {
   "cell_type": "code",
   "execution_count": 81,
   "id": "9cbe5d02",
   "metadata": {},
   "outputs": [
    {
     "name": "stdout",
     "output_type": "stream",
     "text": [
      "Ingrese un número: 5\n",
      "7\n"
     ]
    }
   ],
   "source": [
    "a = input(\"Ingrese un número: \")\n",
    "b = int(a) + 2\n",
    "print(b)"
   ]
  },
  {
   "cell_type": "code",
   "execution_count": 84,
   "id": "e386bc1a",
   "metadata": {},
   "outputs": [
    {
     "name": "stdout",
     "output_type": "stream",
     "text": [
      "Ingrese un número: 5\n"
     ]
    },
    {
     "ename": "TypeError",
     "evalue": "can only concatenate str (not \"int\") to str",
     "output_type": "error",
     "traceback": [
      "\u001b[1;31m---------------------------------------------------------------------------\u001b[0m",
      "\u001b[1;31mTypeError\u001b[0m                                 Traceback (most recent call last)",
      "\u001b[1;32m<ipython-input-84-7f5fa335d7c4>\u001b[0m in \u001b[0;36m<module>\u001b[1;34m\u001b[0m\n\u001b[0;32m      2\u001b[0m \u001b[0ma\u001b[0m \u001b[1;33m=\u001b[0m \u001b[0minput\u001b[0m\u001b[1;33m(\u001b[0m\u001b[1;34m\"Ingrese un número: \"\u001b[0m\u001b[1;33m)\u001b[0m\u001b[1;33m\u001b[0m\u001b[1;33m\u001b[0m\u001b[0m\n\u001b[0;32m      3\u001b[0m \u001b[0mb\u001b[0m \u001b[1;33m=\u001b[0m \u001b[0mint\u001b[0m\u001b[1;33m(\u001b[0m\u001b[0ma\u001b[0m\u001b[1;33m)\u001b[0m \u001b[1;33m+\u001b[0m \u001b[1;36m2\u001b[0m\u001b[1;33m\u001b[0m\u001b[1;33m\u001b[0m\u001b[0m\n\u001b[1;32m----> 4\u001b[1;33m \u001b[0mprint\u001b[0m\u001b[1;33m(\u001b[0m\u001b[1;34m\"El resultado de \"\u001b[0m\u001b[1;33m+\u001b[0m\u001b[0ma\u001b[0m\u001b[1;33m+\u001b[0m\u001b[1;34m\" +2 es = \"\u001b[0m\u001b[1;33m+\u001b[0m\u001b[0mb\u001b[0m\u001b[1;33m)\u001b[0m\u001b[1;33m\u001b[0m\u001b[1;33m\u001b[0m\u001b[0m\n\u001b[0m",
      "\u001b[1;31mTypeError\u001b[0m: can only concatenate str (not \"int\") to str"
     ]
    }
   ],
   "source": [
    "# Podemos resolver este error con una conversión de datos\n",
    "a = input(\"Ingrese un número: \")\n",
    "b = int(a) + 2\n",
    "print(\"El resultado de \"+a+\" +2 es = \"+b)"
   ]
  },
  {
   "cell_type": "code",
   "execution_count": 87,
   "id": "5743da48",
   "metadata": {},
   "outputs": [
    {
     "name": "stdout",
     "output_type": "stream",
     "text": [
      "Ingrese un número: 5\n",
      "El resultado de 5 + 2 es = 7\n"
     ]
    }
   ],
   "source": [
    "# Podemos resolver este error con una conversión de datos\n",
    "a = input(\"Ingrese un número: \")\n",
    "b = int(a) + 2\n",
    "print(\"El resultado de \"+a+\" + 2 es = \"+str(b))"
   ]
  },
  {
   "cell_type": "code",
   "execution_count": 88,
   "id": "3ffd4b99",
   "metadata": {},
   "outputs": [
    {
     "name": "stdout",
     "output_type": "stream",
     "text": [
      "Ingrese un número: 5\n",
      "El resultado de  5  + 2 es =  7\n"
     ]
    }
   ],
   "source": [
    "# Podemos resolver este error con una conversión de datos\n",
    "a = input(\"Ingrese un número: \")\n",
    "b = int(a) + 2\n",
    "print(\"El resultado de \",a,\" + 2 es = \",b)"
   ]
  },
  {
   "cell_type": "code",
   "execution_count": 90,
   "id": "3be8736c",
   "metadata": {},
   "outputs": [
    {
     "name": "stdout",
     "output_type": "stream",
     "text": [
      "Hola Mundo\n"
     ]
    }
   ],
   "source": [
    "a = \"Hola\"\n",
    "b = \"Mundo\"\n",
    "print(a,b) # Salida es la impresión por pantalla"
   ]
  },
  {
   "cell_type": "code",
   "execution_count": 95,
   "id": "d4afd0dd",
   "metadata": {},
   "outputs": [],
   "source": [
    "# Concatenación con + y con ,"
   ]
  },
  {
   "cell_type": "code",
   "execution_count": 96,
   "id": "dc406d91",
   "metadata": {},
   "outputs": [
    {
     "name": "stdout",
     "output_type": "stream",
     "text": [
      "Cuantos años tiene Juan: 28\n",
      "Juan tiene 28 años\n"
     ]
    }
   ],
   "source": [
    "a = \"Juan\"\n",
    "b = int(input(\"Cuantos años tiene Juan: \"))\n",
    "\n",
    "print(a,\"tiene\",b,\"años\")"
   ]
  },
  {
   "cell_type": "code",
   "execution_count": 97,
   "id": "d4bdf782",
   "metadata": {},
   "outputs": [
    {
     "name": "stdout",
     "output_type": "stream",
     "text": [
      "Cuantos años tiene Juan: 28\n",
      "Juan tiene 28 años\n"
     ]
    }
   ],
   "source": [
    "a = \"Juan\"\n",
    "b = int(input(\"Cuantos años tiene Juan: \"))\n",
    "\n",
    "print(\"{} tiene {} años\".format(a,b))"
   ]
  },
  {
   "cell_type": "code",
   "execution_count": 98,
   "id": "99f3aca6",
   "metadata": {},
   "outputs": [
    {
     "name": "stdout",
     "output_type": "stream",
     "text": [
      "Cuantos años tiene Juan: 28\n",
      "Juan tiene 28 años\n"
     ]
    }
   ],
   "source": [
    "a = \"Juan\"\n",
    "b = int(input(\"Cuantos años tiene Juan: \"))\n",
    "\n",
    "print(f\"{a} tiene {b} años\")"
   ]
  },
  {
   "cell_type": "markdown",
   "id": "be2a9e2a",
   "metadata": {},
   "source": [
    "## Actividad de Repaso"
   ]
  },
  {
   "cell_type": "code",
   "execution_count": 99,
   "id": "5555ea1c",
   "metadata": {},
   "outputs": [
    {
     "ename": "NameError",
     "evalue": "name '____' is not defined",
     "output_type": "error",
     "traceback": [
      "\u001b[1;31m---------------------------------------------------------------------------\u001b[0m",
      "\u001b[1;31mNameError\u001b[0m                                 Traceback (most recent call last)",
      "\u001b[1;32m<ipython-input-99-b0a9caae34a4>\u001b[0m in \u001b[0;36m<module>\u001b[1;34m\u001b[0m\n\u001b[1;32m----> 1\u001b[1;33m \u001b[0ma\u001b[0m \u001b[1;33m=\u001b[0m \u001b[0m____\u001b[0m\u001b[1;33m(\u001b[0m\u001b[1;34m\"Ingrese su edad: \"\u001b[0m\u001b[1;33m)\u001b[0m\u001b[1;33m\u001b[0m\u001b[1;33m\u001b[0m\u001b[0m\n\u001b[0m\u001b[0;32m      2\u001b[0m \u001b[0mprint\u001b[0m\u001b[1;33m(\u001b[0m\u001b[1;34m\"La edad ingresada fue: \"\u001b[0m\u001b[1;33m+\u001b[0m\u001b[0ma\u001b[0m\u001b[1;33m)\u001b[0m\u001b[1;33m\u001b[0m\u001b[1;33m\u001b[0m\u001b[0m\n",
      "\u001b[1;31mNameError\u001b[0m: name '____' is not defined"
     ]
    }
   ],
   "source": [
    "a = ____(\"Ingrese su edad: \")\n",
    "print(\"La edad ingresada fue: \"+a)"
   ]
  },
  {
   "cell_type": "code",
   "execution_count": 100,
   "id": "8a2c16f8",
   "metadata": {},
   "outputs": [
    {
     "name": "stdout",
     "output_type": "stream",
     "text": [
      "Ingrese su edad: 28\n",
      "La edad ingresada fue: 28\n"
     ]
    }
   ],
   "source": [
    "a = input(\"Ingrese su edad: \")\n",
    "print(\"La edad ingresada fue: \"+a)"
   ]
  },
  {
   "cell_type": "code",
   "execution_count": 105,
   "id": "37c74cfe",
   "metadata": {},
   "outputs": [
    {
     "name": "stdout",
     "output_type": "stream",
     "text": [
      "Ingrese su edad: camilo\n"
     ]
    },
    {
     "ename": "ValueError",
     "evalue": "invalid literal for int() with base 10: 'camilo'",
     "output_type": "error",
     "traceback": [
      "\u001b[1;31m---------------------------------------------------------------------------\u001b[0m",
      "\u001b[1;31mValueError\u001b[0m                                Traceback (most recent call last)",
      "\u001b[1;32m<ipython-input-105-a3011f64c5f3>\u001b[0m in \u001b[0;36m<module>\u001b[1;34m\u001b[0m\n\u001b[1;32m----> 1\u001b[1;33m \u001b[0ma\u001b[0m \u001b[1;33m=\u001b[0m \u001b[0mint\u001b[0m\u001b[1;33m(\u001b[0m\u001b[0minput\u001b[0m\u001b[1;33m(\u001b[0m\u001b[1;34m\"Ingrese su edad: \"\u001b[0m\u001b[1;33m)\u001b[0m\u001b[1;33m)\u001b[0m\u001b[1;33m\u001b[0m\u001b[1;33m\u001b[0m\u001b[0m\n\u001b[0m\u001b[0;32m      2\u001b[0m \u001b[0mprint\u001b[0m\u001b[1;33m(\u001b[0m\u001b[1;34m\"La edad ingresada fue: \"\u001b[0m\u001b[1;33m,\u001b[0m\u001b[0ma\u001b[0m\u001b[1;33m)\u001b[0m\u001b[1;33m\u001b[0m\u001b[1;33m\u001b[0m\u001b[0m\n",
      "\u001b[1;31mValueError\u001b[0m: invalid literal for int() with base 10: 'camilo'"
     ]
    }
   ],
   "source": [
    "a = int(input(\"Ingrese su edad: \"))\n",
    "print(\"La edad ingresada fue: \",a)"
   ]
  },
  {
   "cell_type": "code",
   "execution_count": null,
   "id": "6b070ba3",
   "metadata": {},
   "outputs": [],
   "source": []
  }
 ],
 "metadata": {
  "kernelspec": {
   "display_name": "Python 3",
   "language": "python",
   "name": "python3"
  },
  "language_info": {
   "codemirror_mode": {
    "name": "ipython",
    "version": 3
   },
   "file_extension": ".py",
   "mimetype": "text/x-python",
   "name": "python",
   "nbconvert_exporter": "python",
   "pygments_lexer": "ipython3",
   "version": "3.8.8"
  }
 },
 "nbformat": 4,
 "nbformat_minor": 5
}
