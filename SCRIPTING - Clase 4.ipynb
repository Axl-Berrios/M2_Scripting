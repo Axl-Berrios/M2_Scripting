{
 "cells": [
  {
   "cell_type": "markdown",
   "id": "cdff2258",
   "metadata": {},
   "source": [
    "## Tema 1. Funciones en Python"
   ]
  },
  {
   "cell_type": "code",
   "execution_count": 1,
   "id": "dd9eebe1",
   "metadata": {},
   "outputs": [],
   "source": [
    "# Definamos una función de ejemplo\n",
    "\n",
    "def funcion_ejemplo (parametro1, parametro2):\n",
    "    variable_ejemplo = parametro1 + parametro2\n",
    "    print(variable_ejemplo)"
   ]
  },
  {
   "cell_type": "code",
   "execution_count": 2,
   "id": "1ee3b7bf",
   "metadata": {},
   "outputs": [
    {
     "name": "stdout",
     "output_type": "stream",
     "text": [
      "5\n"
     ]
    }
   ],
   "source": [
    "funcion_ejemplo(2,3)"
   ]
  },
  {
   "cell_type": "code",
   "execution_count": 3,
   "id": "3eb88f9d",
   "metadata": {},
   "outputs": [],
   "source": [
    "def funcion_ejemplo1 (parametro1, parametro2):\n",
    "    # variable_ejemplo = parametro1 + parametro2\n",
    "    print(parametro1 + parametro2)"
   ]
  },
  {
   "cell_type": "code",
   "execution_count": 4,
   "id": "07e86a82",
   "metadata": {},
   "outputs": [
    {
     "name": "stdout",
     "output_type": "stream",
     "text": [
      "7\n"
     ]
    }
   ],
   "source": [
    "funcion_ejemplo1(4,3)"
   ]
  },
  {
   "cell_type": "code",
   "execution_count": 6,
   "id": "1a8770fe",
   "metadata": {},
   "outputs": [],
   "source": [
    "# Un ejemplo más práctico\n",
    "# Se define la función\n",
    "\n",
    "def suma(num_a,num_b):\n",
    "    resultado = num_a + num_b\n",
    "    print(f\"El resultado de {num_a} + {num_b} es {resultado}\")"
   ]
  },
  {
   "cell_type": "code",
   "execution_count": 17,
   "id": "ee4ec631",
   "metadata": {},
   "outputs": [
    {
     "name": "stdout",
     "output_type": "stream",
     "text": [
      "El resultado de 3 + 7 es 10\n",
      "None\n",
      "El resultado de 12 + 7 es 19\n",
      "None\n"
     ]
    }
   ],
   "source": [
    "# Habiendo definido la función, aquí empezamos el script:\n",
    "\n",
    "a = 3\n",
    "b = 7\n",
    "c = 12\n",
    "\n",
    "# Se invoca a la función, y se le agregan los parámetros\n",
    "\n",
    "print(suma(a,b))\n",
    "print(suma(c,b))"
   ]
  },
  {
   "cell_type": "code",
   "execution_count": 16,
   "id": "e3a0854c",
   "metadata": {},
   "outputs": [
    {
     "name": "stdout",
     "output_type": "stream",
     "text": [
      "El resultado de 3 + 7 es 10\n",
      "El resultado de 3 + 7 es 10\n",
      "El resultado de 3 + 7 es 10\n"
     ]
    }
   ],
   "source": [
    "# 3 formas de combinar string con números\n",
    "print(\"El resultado de\", a,\"+\",b,\"es\",a+b)\n",
    "print(\"El resultado de {} + {} es {}\".format(a,b,a+b))\n",
    "print(f\"El resultado de {a} + {b} es {a+b}\")"
   ]
  },
  {
   "cell_type": "code",
   "execution_count": 18,
   "id": "ebd816b1",
   "metadata": {},
   "outputs": [
    {
     "name": "stdout",
     "output_type": "stream",
     "text": [
      "El resultado de hola +  mundo es hola mundo\n"
     ]
    }
   ],
   "source": [
    "# ¿Qué pasaría si hacemos el ejercicio con string?\n",
    "suma(\"hola\",\" mundo\")"
   ]
  },
  {
   "cell_type": "markdown",
   "id": "279a0199",
   "metadata": {},
   "source": [
    "## Tema 2. Devolver resultado de una función"
   ]
  },
  {
   "cell_type": "code",
   "execution_count": 19,
   "id": "efbeb59b",
   "metadata": {},
   "outputs": [],
   "source": [
    "# Return\n",
    "# Se define la función\n",
    "\n",
    "def suma_1(num_1,num_2):\n",
    "    resultado = num_1 + num_2\n",
    "    return resultado"
   ]
  },
  {
   "cell_type": "code",
   "execution_count": 22,
   "id": "ec88b922",
   "metadata": {},
   "outputs": [
    {
     "name": "stdout",
     "output_type": "stream",
     "text": [
      "El resultado de 5 + 10 es 15\n"
     ]
    }
   ],
   "source": [
    "a = 5\n",
    "b = 10\n",
    "\n",
    "# Se invoca la función:\n",
    "res = suma_1(a,b) # Se almacena el resultado de la función en la variable \"res\"\n",
    "\n",
    "print(f\"El resultado de {a} + {b} es {res}\")"
   ]
  },
  {
   "cell_type": "markdown",
   "id": "22a30d07",
   "metadata": {},
   "source": [
    "## Tema 3. Funciones Integradas"
   ]
  },
  {
   "cell_type": "code",
   "execution_count": 25,
   "id": "651bfbb9",
   "metadata": {},
   "outputs": [
    {
     "name": "stdout",
     "output_type": "stream",
     "text": [
      "10\n"
     ]
    }
   ],
   "source": [
    "# Longitud de una cadena\n",
    "print(len(\"Hola Mundo\"))"
   ]
  },
  {
   "cell_type": "code",
   "execution_count": 26,
   "id": "d9dfcbe3",
   "metadata": {},
   "outputs": [
    {
     "name": "stdout",
     "output_type": "stream",
     "text": [
      "Carlos\n",
      "CARLOS\n",
      "carlos\n"
     ]
    }
   ],
   "source": [
    "# Conversión en mayúsculas y minúsculas\n",
    "nombre = \"Carlos\"\n",
    "print(nombre)\n",
    "print(nombre.upper())\n",
    "print(nombre.lower())"
   ]
  },
  {
   "cell_type": "code",
   "execution_count": 29,
   "id": "f69fca3f",
   "metadata": {},
   "outputs": [
    {
     "name": "stdout",
     "output_type": "stream",
     "text": [
      "mi cuerpo lo sabe\n"
     ]
    }
   ],
   "source": [
    "# Reemplazar una cadena por otra\n",
    "texto = \"Hoy es viernes\"\n",
    "print(texto.replace(\"Hoy es viernes\",\"mi cuerpo lo sabe\"))"
   ]
  },
  {
   "cell_type": "code",
   "execution_count": 30,
   "id": "155cd1e4",
   "metadata": {},
   "outputs": [
    {
     "name": "stdout",
     "output_type": "stream",
     "text": [
      "10\n",
      "2\n",
      "8\n"
     ]
    }
   ],
   "source": [
    "# Determinar el máximo y mínimo\n",
    "lista_nros = [2, 5, 10]\n",
    "print(max(lista_nros))\n",
    "print(min(lista_nros))\n",
    "print(max(lista_nros) - min(lista_nros))"
   ]
  },
  {
   "cell_type": "code",
   "execution_count": 31,
   "id": "7259c291",
   "metadata": {},
   "outputs": [
    {
     "name": "stdout",
     "output_type": "stream",
     "text": [
      "17\n"
     ]
    }
   ],
   "source": [
    "# Suma de lista de números\n",
    "lista_nros = [2, 5, 10]\n",
    "print(sum(lista_nros))"
   ]
  },
  {
   "cell_type": "code",
   "execution_count": 36,
   "id": "bff8d11b",
   "metadata": {},
   "outputs": [
    {
     "name": "stdout",
     "output_type": "stream",
     "text": [
      "range(0, 10)\n",
      "<class 'range'>\n"
     ]
    }
   ],
   "source": [
    "# Crear rango de números\n",
    "A = range(10)\n",
    "print(A)\n",
    "print(type(A))"
   ]
  },
  {
   "cell_type": "code",
   "execution_count": 37,
   "id": "bf8ce65e",
   "metadata": {},
   "outputs": [
    {
     "name": "stdout",
     "output_type": "stream",
     "text": [
      "[0, 1, 2, 3, 4, 5, 6, 7, 8, 9]\n"
     ]
    }
   ],
   "source": [
    "print(list(A))"
   ]
  },
  {
   "cell_type": "markdown",
   "id": "2010f500",
   "metadata": {},
   "source": [
    "## Tema 4. Instalación y uso de librerías externas"
   ]
  },
  {
   "cell_type": "markdown",
   "id": "7cd77f69",
   "metadata": {},
   "source": [
    "### Trabajemos con NumPy"
   ]
  },
  {
   "cell_type": "code",
   "execution_count": 38,
   "id": "f41566db",
   "metadata": {},
   "outputs": [
    {
     "name": "stdout",
     "output_type": "stream",
     "text": [
      "Requirement already satisfied: numpy in c:\\users\\gonza\\anaconda3\\lib\\site-packages (1.19.5)\n",
      "Note: you may need to restart the kernel to use updated packages.\n"
     ]
    }
   ],
   "source": [
    "# Si no tienen instalada la librería, se puede instalar con pip install\n",
    "pip install numpy"
   ]
  },
  {
   "cell_type": "code",
   "execution_count": 39,
   "id": "bfba15a1",
   "metadata": {},
   "outputs": [
    {
     "name": "stdout",
     "output_type": "stream",
     "text": [
      "pip 21.0.1 from C:\\Users\\gonza\\anaconda3\\lib\\site-packages\\pip (python 3.8)\n",
      "\n",
      "Note: you may need to restart the kernel to use updated packages.\n"
     ]
    }
   ],
   "source": [
    "pip --version"
   ]
  },
  {
   "cell_type": "code",
   "execution_count": 43,
   "id": "05f6aa6c",
   "metadata": {},
   "outputs": [
    {
     "name": "stdout",
     "output_type": "stream",
     "text": [
      "[2, 3, 4, 5]\n",
      "[2 3 4 5]\n",
      "<class 'list'>\n",
      "<class 'numpy.ndarray'>\n"
     ]
    }
   ],
   "source": [
    "# Importando NumPy\n",
    "import numpy as np # Se puede generar el alias (numpy abreviado)\n",
    "\n",
    "x = [2, 3, 4, 5] # Se crea una lista\n",
    "nums = np.array(x) # Vamos a crear un arreglo (objeto principal de NumPy), desde una lista\n",
    "print(x)\n",
    "print(nums)\n",
    "print(type(x))\n",
    "print(type(nums))"
   ]
  },
  {
   "cell_type": "code",
   "execution_count": 45,
   "id": "b7779930",
   "metadata": {},
   "outputs": [
    {
     "data": {
      "text/plain": [
       "array([[1, 2, 3],\n",
       "       [2, 3, 4]])"
      ]
     },
     "execution_count": 45,
     "metadata": {},
     "output_type": "execute_result"
    }
   ],
   "source": [
    "x = [1, 2, 3]\n",
    "y = [2, 3, 4]\n",
    "\n",
    "np.array(x,y)\n",
    "np.array([x,y])"
   ]
  },
  {
   "cell_type": "code",
   "execution_count": 46,
   "id": "523aa8a9",
   "metadata": {},
   "outputs": [
    {
     "name": "stdout",
     "output_type": "stream",
     "text": [
      "[[1 2 3]\n",
      " [4 5 6]]\n"
     ]
    }
   ],
   "source": [
    "# Vector (arreglo) de más de una dimensión (matriz)\n",
    "import numpy as np\n",
    "\n",
    "nums = np.array([[1,2,3],[4,5,6]])\n",
    "print(nums)"
   ]
  },
  {
   "cell_type": "markdown",
   "id": "5682b94f",
   "metadata": {},
   "source": [
    "### Trabajemos con Requests"
   ]
  },
  {
   "cell_type": "code",
   "execution_count": 53,
   "id": "cfbe665d",
   "metadata": {},
   "outputs": [
    {
     "name": "stdout",
     "output_type": "stream",
     "text": [
      "200\n"
     ]
    }
   ],
   "source": [
    "# pip install requests # REVISAR\n",
    "import requests\n",
    "\n",
    "response = requests.get(\"https://github.com\")\n",
    "print(response.status_code)"
   ]
  },
  {
   "cell_type": "code",
   "execution_count": 59,
   "id": "4af96b59",
   "metadata": {},
   "outputs": [
    {
     "name": "stdout",
     "output_type": "stream",
     "text": [
      "{\n",
      "  \"error\": false,\n",
      "  \"category\": \"Pun\",\n",
      "  \"type\": \"twopart\",\n",
      "  \"setup\": \"Did you hear about the cheese factory that exploded in France?\",\n",
      "  \"delivery\": \"There was nothing but de brie.\",\n",
      "  \"flags\": {\n",
      "    \"nsfw\": false,\n",
      "    \"religious\": false,\n",
      "    \"political\": false,\n",
      "    \"racist\": false,\n",
      "    \"sexist\": false,\n",
      "    \"explicit\": false\n",
      "  },\n",
      "  \"id\": 65,\n",
      "  \"safe\": true,\n",
      "  \"lang\": \"en\"\n",
      "}\n"
     ]
    }
   ],
   "source": [
    "import requests\n",
    "import json\n",
    "\n",
    "url = \"https://sv443.net/jokeapi/v2/joke/Pun?type=twopart\"\n",
    "\n",
    "joke = requests.get(url=url).json()\n",
    "\n",
    "print(json.dumps(joke,indent=2))"
   ]
  },
  {
   "cell_type": "code",
   "execution_count": null,
   "id": "683fceab",
   "metadata": {},
   "outputs": [],
   "source": []
  },
  {
   "cell_type": "code",
   "execution_count": null,
   "id": "d87b56ea",
   "metadata": {},
   "outputs": [],
   "source": []
  },
  {
   "cell_type": "code",
   "execution_count": null,
   "id": "adb5a41e",
   "metadata": {},
   "outputs": [],
   "source": []
  },
  {
   "cell_type": "code",
   "execution_count": null,
   "id": "e20a5c3c",
   "metadata": {},
   "outputs": [],
   "source": []
  },
  {
   "cell_type": "code",
   "execution_count": null,
   "id": "d77c4bc0",
   "metadata": {},
   "outputs": [],
   "source": []
  }
 ],
 "metadata": {
  "kernelspec": {
   "display_name": "Python 3",
   "language": "python",
   "name": "python3"
  },
  "language_info": {
   "codemirror_mode": {
    "name": "ipython",
    "version": 3
   },
   "file_extension": ".py",
   "mimetype": "text/x-python",
   "name": "python",
   "nbconvert_exporter": "python",
   "pygments_lexer": "ipython3",
   "version": "3.8.8"
  }
 },
 "nbformat": 4,
 "nbformat_minor": 5
}
