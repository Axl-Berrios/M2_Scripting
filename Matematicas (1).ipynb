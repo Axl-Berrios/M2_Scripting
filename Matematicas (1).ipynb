{
 "cells": [
  {
   "cell_type": "code",
   "execution_count": 83,
   "id": "dda24f10",
   "metadata": {},
   "outputs": [
    {
     "name": "stdout",
     "output_type": "stream",
     "text": [
      "Ingrese número 1: 3\n",
      "Ingrese número 2: 5\n",
      "Ingrese número 3: 2\n",
      "-0.6666666666666666\n"
     ]
    }
   ],
   "source": [
    "import math\n",
    "\n",
    "a = float(input(\"Ingrese número 1: \")) #Estas lineas de codigos definimos el ingreso de numeros por pantalla\n",
    "b = float(input(\"Ingrese número 2: \")) #Estas lineas de codigos definimos el ingreso de numeros por pantalla\n",
    "c = float(input(\"Ingrese número 3: \")) #Estas lineas de codigos definimos el ingreso de numeros por pantalla\n",
    "\n",
    "\n",
    "if a != 0: #Como dice el ejercicio la variable a no tiene que ser 0, entonces aqui indicamos que la variable a sea distinto a 0\n",
    "    \n",
    "    aux = b**2 - 4 * a * c #Aqui aplicamos el primero calculo y lo guardamos en la variable aux\n",
    "    aux2 = math.sqrt(aux) #Aqui aplicamos el segundo calculo y lo guardamos en la variable aux2\n",
    "    temp1 = -b + aux2 #Aqui aplicamos el tercer calculo y lo guardamos en la variable temp1\n",
    "    x1 = temp1 / (2*a) #Aqui aplicamos el cuarto y ultimo calculo y lo guaramos en la variable x1\n",
    "    print(x1) #Como el resultado esta en la variable x1, mostramos el resultado en la variable x1 por pantalla\n",
    "    \n",
    "else: #Else quiere decir si el IF no cumple con la condicion que le entregamos vamos a retornar un else.\n",
    "    \n",
    "    print(\"El número 1 debe ser mayor a 0\")"
   ]
  },
  {
   "cell_type": "code",
   "execution_count": 84,
   "id": "7ed48f6d",
   "metadata": {},
   "outputs": [
    {
     "name": "stdout",
     "output_type": "stream",
     "text": [
      "Ingrese número 1: 6\n",
      "Ingrese número 2: 4\n",
      "Ingrese número 3: 1\n",
      "Ingrese número 4: 7\n",
      "Ingrese número 5: 8\n",
      "Número 1: 1\n",
      "Número 2: 8\n",
      "Número 3: 4\n",
      "El Resultado es: -0.5358983848622456\n"
     ]
    }
   ],
   "source": [
    "num = [] #Definimos el Array o Arreglo\n",
    "\n",
    "    \n",
    "for i in range(5): #Recorremos 5 veces el Proceso\n",
    "    \n",
    "    valoresAIngresar = int(input(f\"Ingrese número {i+1}: \")) #Mensaje que arroja por pantalla solictando el ingreso de numeros\n",
    "    \n",
    "    num.append(valoresAIngresar) #Alimentamos el Array almacenando la información\n",
    "    \n",
    "    num.sort() #Ordenamos los numeros de menor a mayor\n",
    "\n",
    "a = num[0]  #En el arreglo damos la orden de seleccionar el numero menor\n",
    "b = num[4]  #En el arreglo damos la orden de seleccionar el numero mayor\n",
    "c = num [1] #En el arreglo damos la orden de seleccionar el segundo numero menor\n",
    "\n",
    "aux = b**2 - 4 * a * c #Generamos el primero Calculo\n",
    "aux2 = math.sqrt(aux) #Generamos el segundo calculo\n",
    "temp1 = -b + aux2 #Generamos el tercer calculo\n",
    "x1 = temp1 / (2*a) #Almacenamos el resultado final en la variable x1\n",
    "\n",
    "print (\"Número 1:\",a) #Mostrar por pantalla la variable A\n",
    "print (\"Número 2:\",b) #Mostrar por pantalla la variable B\n",
    "print (\"Número 3:\",c) #Mostrar por pantalla la variable C\n",
    "print (\"El Resultado es:\",x1) #Mostrar por pantalla el resultado final \n",
    "\n",
    "\n"
   ]
  },
  {
   "cell_type": "code",
   "execution_count": null,
   "id": "2cb984a8",
   "metadata": {},
   "outputs": [],
   "source": []
  }
 ],
 "metadata": {
  "kernelspec": {
   "display_name": "Python 3 (ipykernel)",
   "language": "python",
   "name": "python3"
  },
  "language_info": {
   "codemirror_mode": {
    "name": "ipython",
    "version": 3
   },
   "file_extension": ".py",
   "mimetype": "text/x-python",
   "name": "python",
   "nbconvert_exporter": "python",
   "pygments_lexer": "ipython3",
   "version": "3.10.9"
  }
 },
 "nbformat": 4,
 "nbformat_minor": 5
}
